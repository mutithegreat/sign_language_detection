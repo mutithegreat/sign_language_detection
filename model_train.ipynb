{
 "cells": [
  {
   "cell_type": "code",
   "execution_count": 5,
   "id": "1d39f816-b94f-4a7e-9549-3a9120d658e1",
   "metadata": {},
   "outputs": [],
   "source": [
    "import pickle\n",
    "import numpy as np\n",
    "from sklearn.ensemble import RandomForestClassifier\n",
    "from sklearn.model_selection import train_test_split\n",
    "from sklearn.metrics import accuracy_score"
   ]
  },
  {
   "cell_type": "code",
   "execution_count": 6,
   "id": "a50d6d92-37c7-4d41-b27c-53bf86456cac",
   "metadata": {},
   "outputs": [],
   "source": [
    "data = pickle.load(open(\"data.pickle\", \"rb\"))\n",
    "data_new = np.asarray(data[\"data\"])\n",
    "labels_new = np.asarray(data[\"labels\"])"
   ]
  },
  {
   "cell_type": "code",
   "execution_count": 7,
   "id": "3705ffe1-6305-4e93-a814-1d11b14bcde7",
   "metadata": {},
   "outputs": [],
   "source": [
    "\n",
    "xtrain , xtest , ytrain , ytest = train_test_split(data_new , labels_new , test_size=0.2 , shuffle=True , stratify=labels_new)\n",
    "\n",
    "model = RandomForestClassifier()\n",
    "model.fit(xtrain , ytrain)\n",
    "y_pred = model.predict(xtest)\n",
    "score = accuracy_score(y_pred,ytest)\n"
   ]
  },
  {
   "cell_type": "code",
   "execution_count": 8,
   "id": "1609a3ea-124e-4649-90ab-830ca8ab15aa",
   "metadata": {},
   "outputs": [],
   "source": [
    "with open(\"model.pickle\"  , \"wb\") as f:\n",
    "    pickle.dump({\"model\":model} , f)"
   ]
  },
  {
   "cell_type": "code",
   "execution_count": null,
   "id": "46a5e7ab-aaf8-4ac8-b8d4-53cde9e9e317",
   "metadata": {},
   "outputs": [],
   "source": []
  }
 ],
 "metadata": {
  "kernelspec": {
   "display_name": "cuda-gpt",
   "language": "python",
   "name": "cuda"
  },
  "language_info": {
   "codemirror_mode": {
    "name": "ipython",
    "version": 3
   },
   "file_extension": ".py",
   "mimetype": "text/x-python",
   "name": "python",
   "nbconvert_exporter": "python",
   "pygments_lexer": "ipython3",
   "version": "3.11.7"
  }
 },
 "nbformat": 4,
 "nbformat_minor": 5
}
