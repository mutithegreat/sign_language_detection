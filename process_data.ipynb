{
 "cells": [
  {
   "cell_type": "code",
   "execution_count": 10,
   "id": "7f2d320f-f4e0-4107-bc00-79ee13db2bf1",
   "metadata": {},
   "outputs": [],
   "source": [
    "import os\n",
    "import pickle\n",
    "import mediapipe as mp\n",
    "import cv2"
   ]
  },
  {
   "cell_type": "code",
   "execution_count": 11,
   "id": "20943583-f8e2-41da-bc75-138db914a1d7",
   "metadata": {},
   "outputs": [],
   "source": [
    "mp_hands = mp.solutions.hands\n",
    "mp_drawing = mp.solutions.drawing_utils\n",
    "mp_drawing_style = mp.solutions.drawing_styles"
   ]
  },
  {
   "cell_type": "code",
   "execution_count": 12,
   "id": "54afc219-b3ad-4c02-9e95-e3de42b14a81",
   "metadata": {},
   "outputs": [],
   "source": [
    "hands = mp_hands.Hands(static_image_mode=True , min_detection_confidence=0.3)\n",
    "dir_data = \"data\"\n",
    "\n",
    "data = list()\n",
    "labels = list()"
   ]
  },
  {
   "cell_type": "code",
   "execution_count": 13,
   "id": "bf4f479e-ee75-4601-9fba-d874510832f5",
   "metadata": {},
   "outputs": [],
   "source": [
    "for dir_ in os.listdir(dir_data):\n",
    "    for image_path in os.listdir(os.path.join(dir_data , dir_)):\n",
    "        data_aux = list()\n",
    "        x_ = list()\n",
    "        y_ = list()\n",
    "        img = cv2.imread(os.path.join(dir_data , dir_ , image_path))\n",
    "        img_rgb = cv2.cvtColor(img,cv2.COLOR_BGR2RGB)\n",
    "        result = hands.process(img_rgb)\n",
    "        \n",
    "        if result.multi_hand_landmarks:\n",
    "            for hand_landmarks in result.multi_hand_landmarks:\n",
    "                for i in range(len(hand_landmarks.landmark)):\n",
    "                    x = hand_landmarks.landmark[i].x\n",
    "                    y = hand_landmarks.landmark[i].y\n",
    "                    x_.append(x)\n",
    "                    y_.append(y)\n",
    "                    \n",
    "                for i in range(len(hand_landmarks.landmark)):\n",
    "                    x = hand_landmarks.landmark[i].x\n",
    "                    y = hand_landmarks.landmark[i].y\n",
    "                    data_aux.append(x - min(x_))\n",
    "                    data_aux.append(y - min(y_))\n",
    "            if len(data_aux) == 42:\n",
    "                data.append(data_aux)\n",
    "                labels.append(dir_)\n",
    "            else:\n",
    "                data.append(data_aux[:42])\n",
    "                labels.append(dir_[:42])\n",
    "                "
   ]
  },
  {
   "cell_type": "code",
   "execution_count": 14,
   "id": "e2e1e473-2ba5-4d76-be1d-008b2e13e639",
   "metadata": {},
   "outputs": [],
   "source": [
    "f = open(\"data.pickle\" , \"wb\")\n",
    "pickle.dump({\"data\" : data , \"labels\" : labels} , f)\n",
    "f.close()"
   ]
  },
  {
   "cell_type": "code",
   "execution_count": null,
   "id": "1f71f2c1-db0d-4db3-b367-fbd50f7ed177",
   "metadata": {},
   "outputs": [],
   "source": []
  }
 ],
 "metadata": {
  "kernelspec": {
   "display_name": "cuda-gpt",
   "language": "python",
   "name": "cuda"
  },
  "language_info": {
   "codemirror_mode": {
    "name": "ipython",
    "version": 3
   },
   "file_extension": ".py",
   "mimetype": "text/x-python",
   "name": "python",
   "nbconvert_exporter": "python",
   "pygments_lexer": "ipython3",
   "version": "3.11.7"
  }
 },
 "nbformat": 4,
 "nbformat_minor": 5
}
