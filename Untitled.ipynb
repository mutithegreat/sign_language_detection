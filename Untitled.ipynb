{
 "cells": [
  {
   "cell_type": "code",
   "execution_count": 1,
   "id": "bc334539-b062-4c6e-a6c5-c026ece13c62",
   "metadata": {},
   "outputs": [],
   "source": [
    "import os\n",
    "import pickle\n",
    "import mediapipe as mp\n",
    "import cv2"
   ]
  },
  {
   "cell_type": "code",
   "execution_count": 3,
   "id": "2546d2e6-4edf-4f35-9d56-afc05e75ab5e",
   "metadata": {},
   "outputs": [],
   "source": [
    "mp_hands = mp.solutions.hands\n",
    "mp_drawing = mp.solutions.drawing_utils\n",
    "mp_drawing_style = mp.solutions.drawing_styles\n",
    "\n",
    "hands = mp_hands.Hands(static_image_mode=True , min_detection_confidence=0.3)\n",
    "dir_data = \"/data\"\n",
    "\n",
    "data = list()\n",
    "labels = list()"
   ]
  },
  {
   "cell_type": "code",
   "execution_count": 7,
   "id": "5be347a8-a75d-4286-ba6a-01b591bdb436",
   "metadata": {},
   "outputs": [],
   "source": [
    "for dir_ in os.listdir(dir_data):\n",
    "    for image_path in os.listdir(os.path.join(dir_data , dir_)):\n",
    "        data_aux = list()\n",
    "        x_ = list\n",
    "        y_ = list()\n",
    "        img = cv2.imread(os.path.join(dir_data , dir_ , image_path))\n",
    "        img_rgb = cv2.cvtColor(img,cv2.COLOR_BAYER_BG2BGR)\n",
    "        result = hands.process(img_rgb)\n",
    "        \n",
    "        if result.multi_hand_landmarks:\n",
    "            for hand_landmarks in result.multi_hand_landmarks:\n",
    "                for i in range(len(hand_landmarks.landmark)):\n",
    "                    x = hand_landmarks.landmark[i].x\n",
    "                    y = hand_landmarks.landmark[i].y\n",
    "                    x_.append(x)\n",
    "                    y_.append(y)\n",
    "                    data_aux.append(x - min(x_))\n",
    "                    data_aux.append(y - min(y_))\n",
    "                data.append(data_aux)\n",
    "                labels.append(dir_)\n",
    "\n",
    "                    "
   ]
  },
  {
   "cell_type": "code",
   "execution_count": 8,
   "id": "778fd8b4-de90-412a-9b14-93644f5e0e28",
   "metadata": {},
   "outputs": [],
   "source": [
    "f = open(\"data.pickle\" , \"wb\")\n",
    "pickle.dump({\"data\" : data , \"labels\" : labels} , f)\n",
    "f.close()"
   ]
  },
  {
   "cell_type": "code",
   "execution_count": null,
   "id": "1af756a6-ab00-4add-9ca2-e1ead03354af",
   "metadata": {},
   "outputs": [],
   "source": []
  }
 ],
 "metadata": {
  "kernelspec": {
   "display_name": "cuda-gpt",
   "language": "python",
   "name": "cuda"
  },
  "language_info": {
   "codemirror_mode": {
    "name": "ipython",
    "version": 3
   },
   "file_extension": ".py",
   "mimetype": "text/x-python",
   "name": "python",
   "nbconvert_exporter": "python",
   "pygments_lexer": "ipython3",
   "version": "3.11.7"
  }
 },
 "nbformat": 4,
 "nbformat_minor": 5
}
